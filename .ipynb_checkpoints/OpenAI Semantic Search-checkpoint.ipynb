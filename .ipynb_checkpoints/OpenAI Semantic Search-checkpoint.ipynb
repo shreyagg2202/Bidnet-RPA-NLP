{
 "cells": [
  {
   "cell_type": "code",
   "execution_count": 1,
   "id": "009c9934",
   "metadata": {},
   "outputs": [],
   "source": [
    "from openai import OpenAI"
   ]
  },
  {
   "cell_type": "code",
   "execution_count": 2,
   "id": "f58e7880",
   "metadata": {},
   "outputs": [],
   "source": [
    "client = OpenAI(api_key=\"...\")"
   ]
  },
  {
   "cell_type": "code",
   "execution_count": 6,
   "id": "821915af",
   "metadata": {},
   "outputs": [
    {
     "name": "stdout",
     "output_type": "stream",
     "text": [
      "ChatCompletionMessage(content='No', role='assistant', function_call=None, tool_calls=None)\n"
     ]
    }
   ],
   "source": [
    "completion = client.chat.completions.create(\n",
    "  model=\"gpt-3.5-turbo\",\n",
    "  messages=[\n",
    "    {\"role\": \"system\", \"content\": \"You are a human whose job is to find if a particular description matches a set of keywords.\\\n",
    "             The Keywords are digital transformation, artificial intelligence, machine learning, Analytics, data engineering,\\\n",
    "            salesforce, grants, licensing, permits, lightning experience, lightning migration,\\\n",
    "            case management, data warehouse, automation, rpa, robotic process automation , consultancy, advisory,\\\n",
    "           application development, document management \\\n",
    "           Your response will be precise and you will only respond with the keyword the description matches the most with. \\\n",
    "           If it does not match with any keyword just respond with 'No'\"},\n",
    "    {\"role\": \"user\", \"content\": \"Description: Hardware Stock Replenishment 'Brand Name or Equal,' for Loveland, CO.Questions regarding the solicitation shall be sent via email to the Contract Specialist, Richard Gomez (rgomez@wapa.gov) & Mona Howey (Howey@wapa.gov). NO PHONE CALLS WILL BE ACCEPTED.\"}\n",
    "  ]\n",
    ")\n",
    "\n",
    "print(completion.choices[0].message)"
   ]
  },
  {
   "cell_type": "code",
   "execution_count": null,
   "id": "2b9a4b2e",
   "metadata": {},
   "outputs": [],
   "source": []
  }
 ],
 "metadata": {
  "kernelspec": {
   "display_name": "Python 3 (ipykernel)",
   "language": "python",
   "name": "python3"
  },
  "language_info": {
   "codemirror_mode": {
    "name": "ipython",
    "version": 3
   },
   "file_extension": ".py",
   "mimetype": "text/x-python",
   "name": "python",
   "nbconvert_exporter": "python",
   "pygments_lexer": "ipython3",
   "version": "3.11.4"
  }
 },
 "nbformat": 4,
 "nbformat_minor": 5
}
