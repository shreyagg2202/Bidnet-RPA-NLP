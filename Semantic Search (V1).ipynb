{
 "cells": [
  {
   "cell_type": "code",
   "execution_count": 1,
   "id": "5852fec4",
   "metadata": {},
   "outputs": [],
   "source": [
    "import numpy as np\n",
    "from sentence_transformers import SentenceTransformer\n",
    "from sklearn.metrics.pairwise import cosine_similarity"
   ]
  },
  {
   "cell_type": "code",
   "execution_count": 2,
   "id": "10e0c369",
   "metadata": {},
   "outputs": [],
   "source": [
    "model = SentenceTransformer('all-mpnet-base-v2')\n",
    "#model = SentenceTransformer('multi-qa-mpnet-base-dot-v1')"
   ]
  },
  {
   "cell_type": "code",
   "execution_count": 19,
   "id": "b3aec6ca",
   "metadata": {},
   "outputs": [],
   "source": [
    "keywords = [\"digital transformation\", \"artificial intelligence\", \"machine learning\", \"Analytics\", \"data engineering\",\\\n",
    "            \"salesforce\", \"grants\", \"licensing and permits\", \"lightning experience, lightning migration\",\\\n",
    "            \"case management\", \"data warehouse\", \"automation\", \"rpa ; robotic process automation\" , \"consultancy, advisory\",\\\n",
    "           \"application development and maintenance\"]\n",
    "#description = \"Shrey is smart. He is very interested in History and stock market. He works for a tranport company and is a logistics manager\"\n",
    "#description = \"Integrate RPA solutions with existing systems and applications, ensuring seamless data flow and communication between the RPA bots and other systems.\"\n",
    "#description = \"DPS needs a turn-key asset management system designed to meet the needs of K-12 education that provides more automation in asset management and tracking, robust reporting, an easy to use interface, ensures data integrity, and that frees up the need for manually driven processes.\"\n",
    "#description = \"Specifications include, but are not limited to: The Regional Transportation District (RTD) has conducted a process analysis that identified a current lack of process standardization, system structure, workflow, and aggregate outcome reporting related to a variety of different types of workplace investigations. Therefore, RTD is seeking a case management system for internal investigations to support operations, human resources, and the Equal Employment Opportunity division of the Civil Rights Department. RTD is seeking a robust vendor-supported, software as a service (SaaS) or platform as a service (PaaS) solution from a vendor who will also provide ongoing system maintenance and upgrades, and user-training on the system. The vendor’s case management system will provide functional support that meets RTD’s business requirements using a product that is scalable, fault-tolerant, and meets RTD’s data security, legal, continuity, and disaster recovery requirements. For clarity, RTD does not want an onsite case management system where RTD is responsible for building and maintaining the infrastructure and software. In addition, RTD desires a SaaS or PasS solution that utilizes best practices in user interface/user design, and a vendor who will maintain the system while allowing RTD to own the data.\"\n",
    "description = \"The City of Fort Collins is requesting proposals from qualified Service Providers to purchase an automated road condition, data collection and Artificial Intelligence (AI) based analysis service/system using dash mounted camera phones on City vehicles to inventory City assets, and to help identify the nature of road distresses using artificial intelligence to categorize, calculate and store the data. The implementation will ideally be completed during the first quarter of 2024. This new service/system would complement the City’s current pavement condition survey by providing more current and frequent data collection and analysis.  The stored data is to have an on-line portal for viewing the data spatially and be able to be linked to Arc GIS software.\""
   ]
  },
  {
   "cell_type": "code",
   "execution_count": 20,
   "id": "f7fc5e34",
   "metadata": {},
   "outputs": [],
   "source": [
    "description_embedding = model.encode(description)\n",
    "keyword_embeddings = np.array([model.encode(keyword) for keyword in keywords])"
   ]
  },
  {
   "cell_type": "code",
   "execution_count": 5,
   "id": "f8e506fa",
   "metadata": {
    "scrolled": true
   },
   "outputs": [
    {
     "name": "stdout",
     "output_type": "stream",
     "text": [
      "Similarity with 'digital transformation': [[0.3957077]]\n",
      "Similarity with 'artificial intelligence': [[0.20751351]]\n",
      "Similarity with 'machine learning': [[0.18588373]]\n",
      "Similarity with 'Analytics': [[0.32573175]]\n",
      "Similarity with 'data engineering': [[0.40156215]]\n",
      "Similarity with 'salesforce': [[0.26058036]]\n",
      "Similarity with 'grants': [[0.17953786]]\n",
      "Similarity with 'licensing and permits': [[0.16521932]]\n",
      "Similarity with 'lightning experience, lightning migration': [[0.05939728]]\n",
      "Similarity with 'case management': [[0.2581612]]\n",
      "Similarity with 'data warehouse': [[0.4075588]]\n",
      "Similarity with 'automation': [[0.3434878]]\n",
      "Similarity with 'rpa ; robotic process automation': [[0.35844666]]\n",
      "Similarity with 'consultancy, advisory': [[0.20029089]]\n",
      "Similarity with 'application development and maintenance': [[0.38996905]]\n"
     ]
    }
   ],
   "source": [
    "similarities= {}\n",
    "for keyword, keyword_embedding in zip(keywords, keyword_embeddings):\n",
    "    similarities[keyword] = cosine_similarity([keyword_embedding], [description_embedding])[0][0]\n",
    "    print(f\"Similarity with '{keyword}':\", similarities[keyword])\n",
    "\n",
    "threshold = 0.3\n",
    "#For second model threshold around 0.6\n",
    "matches = [keyword for keyword, score in similarities.items() if score > threshold]"
   ]
  },
  {
   "cell_type": "code",
   "execution_count": 21,
   "id": "4b514d69",
   "metadata": {},
   "outputs": [
    {
     "name": "stdout",
     "output_type": "stream",
     "text": [
      "['machine learning', 'automation', 'artificial intelligence']\n"
     ]
    }
   ],
   "source": [
    "similarities= {}\n",
    "for keyword, keyword_embedding in zip(keywords, keyword_embeddings):\n",
    "    similarities[keyword] = cosine_similarity([keyword_embedding], [description_embedding])[0][0]\n",
    "   # print(f\"Similarity with '{keyword}':\", similarities[keyword])\n",
    "\n",
    "threshold = 0.3\n",
    "#For second model threshold around 0.6\n",
    "matches = [keyword for keyword, score in similarities.items() if score > threshold]\n",
    "max_similarity = max(similarities, key= similarities.get, default = \"None\") if len(matches) > 0 else \"None\"\n",
    "\n",
    "filtered_sorted_tags = sorted([(keyword, score) for keyword, score in similarities.items() if score > threshold], key=lambda x: x[1], reverse=True)\n",
    "top_3_tags = [tag for tag, _ in filtered_sorted_tags[:3]]\n",
    "print(top_3_tags)"
   ]
  },
  {
   "cell_type": "code",
   "execution_count": null,
   "id": "f135f35e",
   "metadata": {},
   "outputs": [],
   "source": []
  }
 ],
 "metadata": {
  "kernelspec": {
   "display_name": "Python 3 (ipykernel)",
   "language": "python",
   "name": "python3"
  },
  "language_info": {
   "codemirror_mode": {
    "name": "ipython",
    "version": 3
   },
   "file_extension": ".py",
   "mimetype": "text/x-python",
   "name": "python",
   "nbconvert_exporter": "python",
   "pygments_lexer": "ipython3",
   "version": "3.11.4"
  }
 },
 "nbformat": 4,
 "nbformat_minor": 5
}
