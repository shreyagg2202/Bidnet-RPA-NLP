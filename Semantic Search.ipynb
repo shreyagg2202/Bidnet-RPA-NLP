{
 "cells": [
  {
   "cell_type": "code",
   "execution_count": null,
   "id": "9867707e",
   "metadata": {},
   "outputs": [],
   "source": [
    "import numpy as np\n",
    "import pandas as pd\n",
    "import matplotlib.pyplot as plt\n",
    "from sentence_transformers import SentenceTransformer\n",
    "from sklearn.metrics.pairwise import cosine_similarity\n",
    "from sklearn.metrics import confusion_matrix, recall_score, precision_score, accuracy_score\n",
    "import seaborn as sns\n",
    "from collections import Counter\n",
    "import re"
   ]
  },
  {
   "cell_type": "code",
   "execution_count": null,
   "id": "05ba5cb2",
   "metadata": {},
   "outputs": [],
   "source": [
    "df = pd.read_excel(r\"C:\\Users\\Dnin\\Desktop\\bidnet_dataset.xlsx\")\n",
    "df.head()"
   ]
  },
  {
   "cell_type": "code",
   "execution_count": null,
   "id": "c55a7be1",
   "metadata": {},
   "outputs": [],
   "source": [
    "model = SentenceTransformer('all-mpnet-base-v2')\n",
    "#model = SentenceTransformer('multi-qa-mpnet-base-dot-v1')"
   ]
  },
  {
   "cell_type": "code",
   "execution_count": null,
   "id": "7f26cacd",
   "metadata": {},
   "outputs": [],
   "source": [
    "# keywords = [\"digital transformation\", \"artificial intelligence\", \"machine learning\", \"analytics\", \"data engineering\",\\\n",
    "#             \"salesforce\", \"grants\", \"licensing and permits\", \"lightning experience, lightning migration\",\\\n",
    "#             \"case management\", \"data warehouse\", \"automation\", \"rpa ; robotic process automation\" , \"consultancy\", \"advisory\",\\\n",
    "#            \"application development and maintenance\"]\n",
    "\n",
    "keywords = [\"digital transformation\", \"artificial intelligence\", \"machine learning\", \"analytics\", \"data engineering\",\\\n",
    "            \"salesforce\", \"grants\", \"licensing\", \"permits\", \"lightning experience\", \"lightning migration\",\\\n",
    "            \"case management\", \"data warehouse\", \"automation\", \"rpa\", \"robotic process automation\" , \"consultancy\", \"advisory\",\\\n",
    "           \"application development\"]\n",
    "\n",
    "keyword_embeddings = np.array([model.encode(keyword) for keyword in keywords])"
   ]
  },
  {
   "cell_type": "code",
   "execution_count": null,
   "id": "8272ec7a",
   "metadata": {},
   "outputs": [],
   "source": [
    "def calculate_cosine_similarity(description_embedding):\n",
    "    similarities= {}\n",
    "    for keyword, keyword_embedding in zip(keywords, keyword_embeddings):\n",
    "        similarity = cosine_similarity([keyword_embedding], [description_embedding])[0][0]\n",
    "        similarities[keyword] = similarity\n",
    "        #print(f\"Similarity with '{keyword}':\", similarities[keyword])\n",
    "        \n",
    "    return similarities\n",
    "\n",
    "def predict_tags(row, model, keywords, keyword_embeddings, threshold):\n",
    "    description = row['Description']\n",
    "#     print(row['Title'])\n",
    "    words = re.findall(r'\\b\\w+\\b', description)\n",
    "    number_of_words = len(words)\n",
    "    actual_tags = \"No Tags\" if row['Tags'] == \"None\" else row['Tags']\n",
    "    description_embedding = model.encode(description)\n",
    "    \n",
    "    similarities_tags = calculate_cosine_similarity(description_embedding)\n",
    "\n",
    "#     threshold = 0.3\n",
    "#     For second model threshold around 0.6\n",
    "#     predicted_tags = [keyword for keyword, score in similarities_tags.items() if score > threshold]\n",
    "\n",
    "    filtered_sorted_tags = sorted([(keyword, score) for keyword, score in similarities_tags.items() if score > threshold], key=lambda x: x[1], reverse=True)\n",
    "    top_3_tags = [tag for tag, _ in filtered_sorted_tags[:3]]\n",
    "#     print(\"Description:\", description)\n",
    "#     print(\"Actual Tags: \", actual_tags)\n",
    "#     print(\"Predicted Tags: \", predicted_tags)\n",
    "#     print(\"Most Relevant Tag: \" max_similarity_tag)\n",
    "    \n",
    "    return top_3_tags, number_of_words\n",
    "\n",
    "def check_relevance(row):\n",
    "    relevance = \"Yes\" if len(row['Most Relevant Tags']) > 0 else \"No\"\n",
    "    return relevance"
   ]
  },
  {
   "cell_type": "code",
   "execution_count": null,
   "id": "b4e89243",
   "metadata": {},
   "outputs": [],
   "source": [
    "# Assuming 'model', 'keywords', 'keyword_embeddings' are defined\n",
    "df[['Most Relevant Tags','Word Count']] = df.apply(lambda row: predict_tags(row, model, keywords, keyword_embeddings, 0.3), axis=1, result_type='expand')"
   ]
  },
  {
   "cell_type": "code",
   "execution_count": null,
   "id": "365ccee4",
   "metadata": {
    "scrolled": true
   },
   "outputs": [],
   "source": [
    "df['Predicted Relevance'] = df.apply(check_relevance, axis=1)\n",
    "df"
   ]
  },
  {
   "cell_type": "code",
   "execution_count": null,
   "id": "e860ae59",
   "metadata": {},
   "outputs": [],
   "source": [
    "# df['Relevant?'].value_counts()\n",
    "filtered_df = df.loc[df['Word Count'] > 350]\n",
    "filtered_df"
   ]
  },
  {
   "cell_type": "code",
   "execution_count": null,
   "id": "1ca85782",
   "metadata": {},
   "outputs": [],
   "source": [
    "sns.histplot(df['Word Count'],bins=10,kde=True)\n",
    "plt.xlabel('Word Count')\n",
    "plt.ylabel('Bids frequency')\n",
    "plt.title('Distribution of Word Count Values')\n",
    "plt.show()"
   ]
  },
  {
   "cell_type": "code",
   "execution_count": null,
   "id": "3d0549cf",
   "metadata": {},
   "outputs": [],
   "source": [
    "tag_list = [tag.strip() for tags in df['Tags'] for tag in tags]\n",
    "keyword_counts = Counter(tag_list)\n",
    "\n",
    "# Create a list of counts for each keyword\n",
    "keyword_frequencies = [keyword_counts[keyword] for keyword in keywords]\n",
    "\n",
    "# Create a bar plot for the keyword frequencies\n",
    "plt.figure(figsize=(10, 6))\n",
    "plt.barh(keywords, keyword_frequencies)\n",
    "plt.xlabel('Keywords')\n",
    "plt.ylabel('Frequency')\n",
    "plt.title('Keyword Frequency Distribution in Tags')\n",
    "plt.show()"
   ]
  },
  {
   "cell_type": "code",
   "execution_count": null,
   "id": "9a8798b8",
   "metadata": {},
   "outputs": [],
   "source": [
    "df['Relevant?'].value_counts()"
   ]
  },
  {
   "cell_type": "code",
   "execution_count": null,
   "id": "04060eb1",
   "metadata": {},
   "outputs": [],
   "source": [
    "df['Predicted Relevance'].value_counts()"
   ]
  },
  {
   "cell_type": "code",
   "execution_count": null,
   "id": "8ccac881",
   "metadata": {},
   "outputs": [],
   "source": [
    "df['Tags'] = df['Tags'].apply(lambda x: x.split(',') if x != \"None\" else [])"
   ]
  },
  {
   "cell_type": "code",
   "execution_count": null,
   "id": "b4061f70",
   "metadata": {},
   "outputs": [],
   "source": [
    "tag_list = [tag for tags in df['Most Relevant Tags'] for tag in tags]\n",
    "keyword_counts = Counter(tag_list)\n",
    "\n",
    "# Create a list of counts for each keyword\n",
    "keyword_frequencies = [keyword_counts[keyword] for keyword in keywords]\n",
    "\n",
    "# Create a bar plot for the keyword frequencies\n",
    "plt.figure(figsize=(10, 6))\n",
    "plt.barh(keywords, keyword_frequencies)\n",
    "plt.xlabel('Keywords')\n",
    "plt.ylabel('Frequency')\n",
    "plt.title('Keyword Frequency Distribution in Tags')\n",
    "plt.show()"
   ]
  },
  {
   "cell_type": "code",
   "execution_count": null,
   "id": "b823f01e",
   "metadata": {},
   "outputs": [],
   "source": [
    "df['Relevant?'] = df['Relevant?'].map({'Yes': True, 'No': False})\n",
    "df['Predicted Relevance'] = df['Predicted Relevance'].map({'Yes': True, 'No': False})\n",
    "\n",
    "precision = precision_score(df['Relevant?'], df['Predicted Relevance'])\n",
    "recall = recall_score(df['Relevant?'], df['Predicted Relevance'])\n",
    "accuracy = accuracy_score(df['Relevant?'], df['Predicted Relevance'])\n",
    "\n",
    "print(\"Precision:\", precision)\n",
    "print(\"Recall:\", recall)\n",
    "print(\"Accuracy:\", accuracy)"
   ]
  },
  {
   "cell_type": "code",
   "execution_count": null,
   "id": "e6492e9b",
   "metadata": {},
   "outputs": [],
   "source": [
    "conf_mat = confusion_matrix(df['Relevant?'], df['Predicted Relevance'])\n",
    "conf_mat"
   ]
  },
  {
   "cell_type": "code",
   "execution_count": null,
   "id": "221436fc",
   "metadata": {},
   "outputs": [],
   "source": [
    "# Plotting Confusion Matrix\n",
    "plt.figure(figsize=(8, 6))\n",
    "sns.heatmap(conf_mat, annot=True, fmt='d', cmap='Blues')\n",
    "plt.title('Confusion Matrix')\n",
    "plt.xlabel('Predicted Relevance')\n",
    "plt.ylabel('Actual Relevance')\n",
    "plt.show()"
   ]
  },
  {
   "cell_type": "code",
   "execution_count": null,
   "id": "7830f400",
   "metadata": {},
   "outputs": [],
   "source": [
    "filtered_df = df.loc[(df['Relevant?'] == True) & (df['Predicted Relevance'] == False)]\n",
    "print(filtered_df['Description'])\n",
    "print(filtered_df['Tags'])"
   ]
  },
  {
   "cell_type": "code",
   "execution_count": null,
   "id": "23565466",
   "metadata": {},
   "outputs": [],
   "source": [
    "pd.set_option('display.max_colwidth', None)"
   ]
  },
  {
   "cell_type": "code",
   "execution_count": null,
   "id": "d4112587",
   "metadata": {},
   "outputs": [],
   "source": [
    "df.loc[df[\"Title\"] == \"DIVISION OF HOUSING LOAN SERVICING SOFTWARE NEEDED\"]"
   ]
  },
  {
   "cell_type": "code",
   "execution_count": null,
   "id": "27d4b4e9",
   "metadata": {},
   "outputs": [],
   "source": [
    "model.max_seq_length"
   ]
  },
  {
   "cell_type": "code",
   "execution_count": null,
   "id": "9abe4820",
   "metadata": {},
   "outputs": [],
   "source": []
  }
 ],
 "metadata": {
  "kernelspec": {
   "display_name": "Python 3 (ipykernel)",
   "language": "python",
   "name": "python3"
  },
  "language_info": {
   "codemirror_mode": {
    "name": "ipython",
    "version": 3
   },
   "file_extension": ".py",
   "mimetype": "text/x-python",
   "name": "python",
   "nbconvert_exporter": "python",
   "pygments_lexer": "ipython3",
   "version": "3.11.4"
  }
 },
 "nbformat": 4,
 "nbformat_minor": 5
}
